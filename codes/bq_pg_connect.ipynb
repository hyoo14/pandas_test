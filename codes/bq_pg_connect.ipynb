{
 "cells": [
  {
   "cell_type": "code",
   "execution_count": 11,
   "id": "652e1782",
   "metadata": {},
   "outputs": [],
   "source": [
    "# 서비스 계정 키 설정\n",
    "import glob\n",
    "from google.cloud import bigquery\n",
    "from google.oauth2 import service_account\n",
    "from google.cloud import bigquery\n",
    "\n",
    "# 서비스 계정 키 JSON 파일 경로\n",
    "key_path = glob.glob(\"hlhl2-374201-1ba184d467da.json\")[0]\n",
    "\n",
    "# Credentials 객체 생성\n",
    "credentials = service_account.Credentials.from_service_account_file(key_path)\n"
   ]
  },
  {
   "cell_type": "code",
   "execution_count": null,
   "id": "8eea15ca",
   "metadata": {},
   "outputs": [],
   "source": []
  },
  {
   "cell_type": "code",
   "execution_count": 12,
   "id": "b099ae27",
   "metadata": {},
   "outputs": [],
   "source": [
    "# GCP 클라이언트 객체 생성\n",
    "client = bigquery.Client(credentials = credentials, \n",
    "                         project = credentials.project_id)"
   ]
  },
  {
   "cell_type": "code",
   "execution_count": 16,
   "id": "a29efab2",
   "metadata": {},
   "outputs": [
    {
     "data": {
      "text/plain": [
       "'hlhl2-374201'"
      ]
     },
     "execution_count": 16,
     "metadata": {},
     "output_type": "execute_result"
    }
   ],
   "source": [
    "client.project"
   ]
  },
  {
   "cell_type": "code",
   "execution_count": 17,
   "id": "4e8c2766",
   "metadata": {},
   "outputs": [],
   "source": [
    "\n",
    "\n",
    "\n",
    "# Construct a BigQuery client object.\n",
    "#client = bigquery.Client()\n",
    "\n",
    "# TODO(developer): Set dataset_id to the ID of the dataset to create.\n",
    "# dataset_id = \"{}.your_dataset\".format(client.project)\n",
    "\n",
    "# Construct a full Dataset object to send to the API.\n",
    "dataset_id = \"hlhl2-374201.test_dataset_00\"\n",
    "dataset = bigquery.Dataset(dataset_id)\n",
    "\n"
   ]
  },
  {
   "cell_type": "code",
   "execution_count": 18,
   "id": "d56dfd53",
   "metadata": {},
   "outputs": [
    {
     "name": "stdout",
     "output_type": "stream",
     "text": [
      "Created dataset hlhl2-374201.test_dataset_00\n"
     ]
    }
   ],
   "source": [
    "dataset.location = \"US\"\n",
    "\n",
    "# Send the dataset to the API for creation, with an explicit timeout.\n",
    "# Raises google.api_core.exceptions.Conflict if the Dataset already\n",
    "# exists within the project.\n",
    "dataset = client.create_dataset(dataset, timeout=30)  # Make an API request.\n",
    "print(\"Created dataset {}.{}\".format(client.project, dataset.dataset_id))"
   ]
  },
  {
   "cell_type": "code",
   "execution_count": 87,
   "id": "2a0c9fe7",
   "metadata": {},
   "outputs": [
    {
     "name": "stdout",
     "output_type": "stream",
     "text": [
      "Deleted table 'hlhl2-374201.test_dataset_00.test_table_00'.\n"
     ]
    }
   ],
   "source": [
    "# table delete\n",
    "client.delete_table(table_id, not_found_ok=True)  # Make an API request.\n",
    "print(\"Deleted table '{}'.\".format(table_id))"
   ]
  },
  {
   "cell_type": "code",
   "execution_count": 88,
   "id": "07e90f7d",
   "metadata": {},
   "outputs": [],
   "source": [
    "table_id = dataset_id + \".test_table_00\""
   ]
  },
  {
   "cell_type": "code",
   "execution_count": 89,
   "id": "6a990177",
   "metadata": {},
   "outputs": [],
   "source": [
    "schema = [\n",
    "        bigquery.SchemaField(\"id\", \"STRING\"),\n",
    "        bigquery.SchemaField(\"COL_ITEM_TXT_EMPH_TLTIP_VL\", \"STRING\"),\n",
    "        bigquery.SchemaField(\"COL_AXISX_TTL_GNRL_VL\", \"STRING\"),\n",
    "        bigquery.SchemaField(\"COL_AXISX_TTL_EMPH_VL\", \"STRING\"),\n",
    "        bigquery.SchemaField(\"ITEM_SET_USYN\", \"STRING\"),\n",
    "        bigquery.SchemaField(\"ITEM_SET_MIN_VL\",\"FLOAT\"),\n",
    "        bigquery.SchemaField(\"ITEM_SET_MAX_VL\", \"FLOAT\"),\n",
    "        bigquery.SchemaField(\"AXISY_USYN\", \"STRING\"),\n",
    "        bigquery.SchemaField(\"AXISY_CNT_MIN_VL\", \"FLOAT\"),\n",
    "        bigquery.SchemaField(\"AXISY_CNT_MAX_VL\", \"FLOAT\"),\n",
    "        bigquery.SchemaField(\"AXISY_TTL_NMB_MIN_VL\", \"FLOAT\"),\n",
    "        bigquery.SchemaField(\"AXISY_TTL_NMB_MAX_VL\",  \"FLOAT\"),\n",
    "        bigquery.SchemaField(\"AXISY_TTL_LET_CNT_MAX_VL\", \"FLOAT\"),\n",
    "        bigquery.SchemaField(\"COL_AXISY_TTL_VL\", \"STRING\"),\n",
    "        bigquery.SchemaField(\"COL_AXISY_LINE_VL\", \"STRING\"),\n",
    "        bigquery.SchemaField(\"LEGD_USYN\", \"STRING\"),\n",
    "        bigquery.SchemaField(\"LEGD_NMB_MIN_VL\", \"FLOAT\"),\n",
    "        bigquery.SchemaField(\"LEGD_NMB_MAX_VL\", \"FLOAT\"),\n",
    "        bigquery.SchemaField(\"LEGD_TXT_LET_CNT_MAX_VL\", \"FLOAT\"),\n",
    "        bigquery.SchemaField(\"COL_ITEM_EMPH_LEGD1_VL\", \"STRING\"),\n",
    "        bigquery.SchemaField(\"COL_ITEM_EMPH_LEGD2_VL\", \"STRING\"),\n",
    "        bigquery.SchemaField(\"COL_ITEM_EMPH_LEGD3_VL\", \"STRING\"),\n",
    "        bigquery.SchemaField(\"COL_ITEM_EMPH_LEGD4_VL\", \"STRING\"),\n",
    "        bigquery.SchemaField(\"COL_ITEM_EMPH_LEGD5_VL\", \"STRING\"),\n",
    "        bigquery.SchemaField(\"THRHLD_USYN\", \"STRING\"),\n",
    "        bigquery.SchemaField(\"THRHLD_RFLN_NMB_MIN_VL\", \"FLOAT\"),\n",
    "        bigquery.SchemaField(\"THRHLD_RFLN_NMB_MAX_VL\", \"FLOAT\"),\n",
    "        bigquery.SchemaField(\"THRHLD_TXT_LET_CNT_MAX_VL\", \"FLOAT\"),\n",
    "        bigquery.SchemaField(\"COL_THRHLD_RFLN_VL\", \"STRING\"),\n",
    "        bigquery.SchemaField(\"COL_THRHLD_TXT_VL\", \"STRING\"),\n",
    "        bigquery.SchemaField(\"ASST_TXT_USYN\", \"STRING\"),\n",
    "        bigquery.SchemaField(\"ASST_TXT_NMB_MIN_VL\", \"FLOAT\"),\n",
    "        bigquery.SchemaField(\"ASST_TXT_NMB_MAX_VL\", \"FLOAT\"),\n",
    "        bigquery.SchemaField(\"ASST_TXT_LET_CNT\", \"FLOAT\"),\n",
    "        bigquery.SchemaField(\"COL_ASST_TXT_VL\", \"STRING\"),\n",
    "        bigquery.SchemaField(\"MSG_USYN\", \"STRING\"),\n",
    "        bigquery.SchemaField(\"MSG_ROW_CNT_MAX_VL\", \"FLOAT\"),\n",
    "        bigquery.SchemaField(\"MSG_ROW_CNT_MIN_VL\", \"FLOAT\"),\n",
    "        bigquery.SchemaField(\"MSG_ROW_LET_CNT_MAX_VL\", \"FLOAT\"),\n",
    "        bigquery.SchemaField(\"MSG_EMPH_CNT\", \"FLOAT\"),\n",
    "        bigquery.SchemaField(\"MSG_CNT\", \"FLOAT\"),\n",
    "        bigquery.SchemaField(\"MSG_IMPN_INDX_CNT\", \"FLOAT\"),\n",
    "        bigquery.SchemaField(\"MSG_ASST_INDX_CNT\", \"FLOAT\"),\n",
    "        bigquery.SchemaField(\"MSG_IMPN_INDX_LET_CNT_MAX_VL\",        \"FLOAT\"),\n",
    "        bigquery.SchemaField(\"MSG_ASST_INDX_TTL_LET_CNT_MAX_VL\", \"FLOAT\"),\n",
    "        bigquery.SchemaField(\"MSG_ASST_INDX_LET_CNT_MAX_VL\", \"FLOAT\"),\n",
    "        bigquery.SchemaField(\"MSG_STUS_ICON_CNT\", \"FLOAT\"),\n",
    "        bigquery.SchemaField(\"MSG_BTN_CNT\", \"FLOAT\"),\n",
    "        bigquery.SchemaField(\"COL_MSG_GNRL_VL\",          \"STRING\"),\n",
    "        bigquery.SchemaField(\"COL_MSG_EMPH_VL\", \"STRING\"),\n",
    "        bigquery.SchemaField(\"COL_IMPN_INDX_VL\", \"STRING\"),\n",
    "        bigquery.SchemaField(\"COL_ASST_INDX_TTL_VL\", \"STRING\"),\n",
    "        bigquery.SchemaField(\"COL_ASST_INDX_VL\", \"STRING\"),\n",
    "        bigquery.SchemaField(\"ITEM_PART_ALL_USYN\",          \"STRING\"),\n",
    "        bigquery.SchemaField(\"ITEM_TXT_NMB_PART_VL\", \"FLOAT\"),\n",
    "        bigquery.SchemaField(\"ITEM_TXT_NMB_ALL_VL\", \"FLOAT\"),\n",
    "        bigquery.SchemaField(\"COL_ITEM_GNRL_PART_VL\", \"STRING\"),\n",
    "        bigquery.SchemaField(\"COL_ITEM_GNRL_ALL_VL\", \"STRING\"),\n",
    "        bigquery.SchemaField(\"COL_ITEM_EMPH_PART_VL\",             \"STRING\"),\n",
    "        bigquery.SchemaField(\"COL_ITEM_EMPH_ALL_VL\", \"STRING\"),\n",
    "        bigquery.SchemaField(\"COL_ITEM_TXT_EMPH_PART_VL\", \"STRING\"),\n",
    "        bigquery.SchemaField(\"COL_ITEM_TXT_EMPH_ALL_VL\", \"STRING\"),\n",
    "        bigquery.SchemaField(\"TBL_YN\", \"STRING\"),\n",
    "        bigquery.SchemaField(\"COL_TBL_TXT_VL\",            \"STRING\"),\n",
    "        bigquery.SchemaField(\"COL_TBL_DSNC_LINE_VL\", \"STRING\"),\n",
    "        bigquery.SchemaField(\"COL_TBL_TTL_VL\", \"STRING\"),\n",
    "        bigquery.SchemaField(\"COL_TBL_TTL_BGD_VL\", \"STRING\"),\n",
    "        bigquery.SchemaField(\"USYN\", \"STRING\"),\n",
    "        bigquery.SchemaField(\"RGPR_ID\", \"STRING\"),\n",
    "        bigquery.SchemaField(\"RGDA\", \"STRING\"),\n",
    "        bigquery.SchemaField(\"MDPR_ID\", \"STRING\"),\n",
    "        bigquery.SchemaField(\"LAST_MDFC_DTTM\",            \"STRING\"),\n",
    "        bigquery.SchemaField(\"CHART_CD\",            \"STRING\"),\n",
    "        bigquery.SchemaField(\"CHART_TPCD\",            \"STRING\"),\n",
    "    ]\n"
   ]
  },
  {
   "cell_type": "code",
   "execution_count": 90,
   "id": "46808a75",
   "metadata": {},
   "outputs": [],
   "source": [
    "##/**  PG에는 자체적으로 id 필드가 생성됨-장고에 의해서. 반면 빅쿼리에 아이디 필드가 없으니 추가해줘야함 **/##"
   ]
  },
  {
   "cell_type": "code",
   "execution_count": 91,
   "id": "88323a1a",
   "metadata": {},
   "outputs": [],
   "source": [
    "table = bigquery.Table(table_id, schema=schema)\n",
    "table = client.create_table(table)"
   ]
  },
  {
   "cell_type": "code",
   "execution_count": 92,
   "id": "da910a9e",
   "metadata": {},
   "outputs": [
    {
     "name": "stdout",
     "output_type": "stream",
     "text": [
      "Created table hlhl2-374201.test_dataset_00.test_table_00\n"
     ]
    }
   ],
   "source": [
    "print(\n",
    "        \"Created table {}.{}.{}\".format(table.project, table.dataset_id, table.table_id)\n",
    ")"
   ]
  },
  {
   "cell_type": "code",
   "execution_count": null,
   "id": "26d9d681",
   "metadata": {},
   "outputs": [],
   "source": []
  },
  {
   "cell_type": "code",
   "execution_count": 23,
   "id": "cd20a2b0",
   "metadata": {},
   "outputs": [],
   "source": [
    "############################################################################################################"
   ]
  },
  {
   "cell_type": "code",
   "execution_count": null,
   "id": "02d5803b",
   "metadata": {},
   "outputs": [],
   "source": []
  },
  {
   "cell_type": "code",
   "execution_count": 24,
   "id": "8e2d5e16",
   "metadata": {},
   "outputs": [],
   "source": [
    "# pg connect"
   ]
  },
  {
   "cell_type": "code",
   "execution_count": 27,
   "id": "8949b925",
   "metadata": {},
   "outputs": [
    {
     "name": "stdout",
     "output_type": "stream",
     "text": [
      "Requirement already satisfied: psycopg2 in /Users/hl/Projects/proj02/pyenv/lib/python3.10/site-packages (2.9.5)\r\n"
     ]
    }
   ],
   "source": [
    "!pip install psycopg2"
   ]
  },
  {
   "cell_type": "code",
   "execution_count": 29,
   "id": "b6419930",
   "metadata": {},
   "outputs": [],
   "source": []
  },
  {
   "cell_type": "code",
   "execution_count": 93,
   "id": "f86f1e3c",
   "metadata": {},
   "outputs": [],
   "source": [
    "connection = psycopg2.connect(host=\"127.0.0.1\", dbname=\"chart\", user=\"hl\", password=\"hl\", port=5432)"
   ]
  },
  {
   "cell_type": "code",
   "execution_count": 94,
   "id": "b30d4861",
   "metadata": {},
   "outputs": [],
   "source": [
    "cur = connection.cursor()"
   ]
  },
  {
   "cell_type": "code",
   "execution_count": 95,
   "id": "83d0cb4c",
   "metadata": {},
   "outputs": [],
   "source": [
    "cur.execute(\"SELECT * FROM charts_chart;\")"
   ]
  },
  {
   "cell_type": "code",
   "execution_count": 96,
   "id": "12a9ab65",
   "metadata": {},
   "outputs": [],
   "source": [
    "datum = cur.fetchall()"
   ]
  },
  {
   "cell_type": "code",
   "execution_count": 97,
   "id": "30ece383",
   "metadata": {},
   "outputs": [
    {
     "name": "stdout",
     "output_type": "stream",
     "text": [
      "30\n"
     ]
    }
   ],
   "source": [
    "print(len(datum))"
   ]
  },
  {
   "cell_type": "code",
   "execution_count": 98,
   "id": "bb8ba779",
   "metadata": {},
   "outputs": [
    {
     "data": {
      "text/plain": [
       "'id'"
      ]
     },
     "execution_count": 98,
     "metadata": {},
     "output_type": "execute_result"
    }
   ],
   "source": [
    "schema[0].name"
   ]
  },
  {
   "cell_type": "code",
   "execution_count": 99,
   "id": "6c6c56b0",
   "metadata": {},
   "outputs": [
    {
     "data": {
      "text/plain": [
       "74"
      ]
     },
     "execution_count": 99,
     "metadata": {},
     "output_type": "execute_result"
    }
   ],
   "source": [
    "len(schema)"
   ]
  },
  {
   "cell_type": "code",
   "execution_count": 100,
   "id": "bf3bedea",
   "metadata": {},
   "outputs": [
    {
     "data": {
      "text/plain": [
       "'COL_ITEM_TXT_EMPH_TLTIP_VL'"
      ]
     },
     "execution_count": 100,
     "metadata": {},
     "output_type": "execute_result"
    }
   ],
   "source": [
    "schema[1].name"
   ]
  },
  {
   "cell_type": "code",
   "execution_count": 101,
   "id": "d162cf8e",
   "metadata": {},
   "outputs": [],
   "source": [
    "rows_to_insert = []\n",
    "for data in datum:\n",
    "    #print(len(data),'  ',data)\n",
    "    form = {}\n",
    "    i = 0\n",
    "    for value in data:\n",
    "        #print(value, i)\n",
    "        if value is not None:\n",
    "            form[ schema[i].name ] = value\n",
    "        i += 1\n",
    "    rows_to_insert.append(form)\n",
    "\n",
    "    "
   ]
  },
  {
   "cell_type": "code",
   "execution_count": 102,
   "id": "37444b58",
   "metadata": {},
   "outputs": [
    {
     "name": "stdout",
     "output_type": "stream",
     "text": [
      "[{'id': 7, 'COL_ITEM_TXT_EMPH_TLTIP_VL': '1', 'CHART_CD': '13', 'CHART_TPCD': '11'}, {'id': 8, 'COL_ITEM_TXT_EMPH_TLTIP_VL': 'blue_black', 'COL_AXISX_TTL_GNRL_VL': '1', 'COL_AXISX_TTL_EMPH_VL': '1', 'ITEM_SET_USYN': '', 'AXISY_USYN': '', 'COL_AXISY_TTL_VL': '', 'COL_AXISY_LINE_VL': '', 'LEGD_USYN': '', 'COL_ITEM_EMPH_LEGD1_VL': '', 'COL_ITEM_EMPH_LEGD2_VL': '', 'COL_ITEM_EMPH_LEGD3_VL': '', 'COL_ITEM_EMPH_LEGD4_VL': '', 'COL_ITEM_EMPH_LEGD5_VL': '', 'THRHLD_USYN': '', 'COL_THRHLD_RFLN_VL': '', 'COL_THRHLD_TXT_VL': '', 'ASST_TXT_USYN': '', 'COL_ASST_TXT_VL': '', 'MSG_USYN': '', 'COL_MSG_GNRL_VL': '', 'COL_MSG_EMPH_VL': '', 'COL_IMPN_INDX_VL': '', 'COL_ASST_INDX_TTL_VL': '', 'COL_ASST_INDX_VL': '', 'ITEM_PART_ALL_USYN': '', 'COL_ITEM_GNRL_PART_VL': '', 'COL_ITEM_GNRL_ALL_VL': '', 'COL_ITEM_EMPH_PART_VL': '', 'COL_ITEM_EMPH_ALL_VL': '', 'COL_ITEM_TXT_EMPH_PART_VL': '', 'COL_ITEM_TXT_EMPH_ALL_VL': '', 'TBL_YN': '', 'COL_TBL_TXT_VL': '', 'COL_TBL_DSNC_LINE_VL': '', 'COL_TBL_TTL_VL': '', 'COL_TBL_TTL_BGD_VL': '', 'USYN': '', 'RGPR_ID': '', 'RGDA': '', 'MDPR_ID': '', 'LAST_MDFC_DTTM': '', 'CHART_CD': '1', 'CHART_TPCD': '1'}, {'id': 9, 'COL_ITEM_TXT_EMPH_TLTIP_VL': '1', 'COL_AXISX_TTL_GNRL_VL': '1', 'COL_AXISX_TTL_EMPH_VL': '1', 'ITEM_SET_USYN': '1', 'ITEM_SET_MIN_VL': 1.0, 'ITEM_SET_MAX_VL': 1.0, 'AXISY_USYN': '', 'COL_AXISY_TTL_VL': '', 'COL_AXISY_LINE_VL': '', 'LEGD_USYN': '', 'COL_ITEM_EMPH_LEGD1_VL': '', 'COL_ITEM_EMPH_LEGD2_VL': '', 'COL_ITEM_EMPH_LEGD3_VL': '', 'COL_ITEM_EMPH_LEGD4_VL': '', 'COL_ITEM_EMPH_LEGD5_VL': '', 'THRHLD_USYN': '', 'COL_THRHLD_RFLN_VL': '', 'COL_THRHLD_TXT_VL': '', 'ASST_TXT_USYN': '', 'COL_ASST_TXT_VL': '', 'MSG_USYN': '', 'COL_MSG_GNRL_VL': '', 'COL_MSG_EMPH_VL': '', 'COL_IMPN_INDX_VL': '', 'COL_ASST_INDX_TTL_VL': '', 'COL_ASST_INDX_VL': '', 'ITEM_PART_ALL_USYN': '', 'COL_ITEM_GNRL_PART_VL': '', 'COL_ITEM_GNRL_ALL_VL': '', 'COL_ITEM_EMPH_PART_VL': '', 'COL_ITEM_EMPH_ALL_VL': '', 'COL_ITEM_TXT_EMPH_PART_VL': '', 'COL_ITEM_TXT_EMPH_ALL_VL': '', 'TBL_YN': '', 'COL_TBL_TXT_VL': '', 'COL_TBL_DSNC_LINE_VL': '', 'COL_TBL_TTL_VL': '', 'COL_TBL_TTL_BGD_VL': '', 'USYN': '', 'RGPR_ID': '', 'RGDA': '', 'MDPR_ID': '', 'LAST_MDFC_DTTM': '', 'CHART_CD': '1', 'CHART_TPCD': '1'}, {'id': 10, 'COL_ITEM_TXT_EMPH_TLTIP_VL': 'nono1', 'COL_AXISX_TTL_GNRL_VL': '1', 'COL_AXISX_TTL_EMPH_VL': '1', 'ITEM_SET_USYN': '1', 'ITEM_SET_MIN_VL': 1.0, 'ITEM_SET_MAX_VL': 1.0, 'AXISY_USYN': '', 'COL_AXISY_TTL_VL': '', 'COL_AXISY_LINE_VL': '', 'LEGD_USYN': '', 'COL_ITEM_EMPH_LEGD1_VL': '', 'COL_ITEM_EMPH_LEGD2_VL': '', 'COL_ITEM_EMPH_LEGD3_VL': '', 'COL_ITEM_EMPH_LEGD4_VL': '', 'COL_ITEM_EMPH_LEGD5_VL': '', 'THRHLD_USYN': '', 'COL_THRHLD_RFLN_VL': '', 'COL_THRHLD_TXT_VL': '', 'ASST_TXT_USYN': '', 'COL_ASST_TXT_VL': '', 'MSG_USYN': '', 'COL_MSG_GNRL_VL': '', 'COL_MSG_EMPH_VL': '', 'COL_IMPN_INDX_VL': '', 'COL_ASST_INDX_TTL_VL': '', 'COL_ASST_INDX_VL': '', 'ITEM_PART_ALL_USYN': '', 'COL_ITEM_GNRL_PART_VL': '', 'COL_ITEM_GNRL_ALL_VL': '', 'COL_ITEM_EMPH_PART_VL': '', 'COL_ITEM_EMPH_ALL_VL': '', 'COL_ITEM_TXT_EMPH_PART_VL': '', 'COL_ITEM_TXT_EMPH_ALL_VL': '', 'TBL_YN': '', 'COL_TBL_TXT_VL': '', 'COL_TBL_DSNC_LINE_VL': '', 'COL_TBL_TTL_VL': '', 'COL_TBL_TTL_BGD_VL': '', 'USYN': '', 'RGPR_ID': '', 'RGDA': '', 'MDPR_ID': '', 'LAST_MDFC_DTTM': '', 'CHART_CD': 'nono', 'CHART_TPCD': '1'}, {'id': 11, 'COL_ITEM_TXT_EMPH_TLTIP_VL': 'blue_black', 'COL_AXISX_TTL_GNRL_VL': '', 'COL_AXISX_TTL_EMPH_VL': '', 'ITEM_SET_USYN': '', 'AXISY_USYN': '', 'COL_AXISY_TTL_VL': '', 'COL_AXISY_LINE_VL': '', 'LEGD_USYN': '', 'COL_ITEM_EMPH_LEGD1_VL': '', 'COL_ITEM_EMPH_LEGD2_VL': '', 'COL_ITEM_EMPH_LEGD3_VL': '', 'COL_ITEM_EMPH_LEGD4_VL': '', 'COL_ITEM_EMPH_LEGD5_VL': '', 'THRHLD_USYN': '', 'COL_THRHLD_RFLN_VL': '', 'COL_THRHLD_TXT_VL': '', 'ASST_TXT_USYN': '', 'COL_ASST_TXT_VL': '', 'MSG_USYN': '', 'COL_MSG_GNRL_VL': '', 'COL_MSG_EMPH_VL': '', 'COL_IMPN_INDX_VL': '', 'COL_ASST_INDX_TTL_VL': '', 'COL_ASST_INDX_VL': '', 'ITEM_PART_ALL_USYN': '', 'COL_ITEM_GNRL_PART_VL': '', 'COL_ITEM_GNRL_ALL_VL': '', 'COL_ITEM_EMPH_PART_VL': '', 'COL_ITEM_EMPH_ALL_VL': '', 'COL_ITEM_TXT_EMPH_PART_VL': '', 'COL_ITEM_TXT_EMPH_ALL_VL': '', 'TBL_YN': '', 'COL_TBL_TXT_VL': '', 'COL_TBL_DSNC_LINE_VL': '', 'COL_TBL_TTL_VL': '', 'COL_TBL_TTL_BGD_VL': '', 'USYN': '', 'RGPR_ID': '', 'RGDA': '', 'MDPR_ID': '', 'LAST_MDFC_DTTM': '', 'CHART_CD': '321', 'CHART_TPCD': '321'}, {'id': 12, 'COL_ITEM_TXT_EMPH_TLTIP_VL': 'blue_black', 'COL_AXISX_TTL_GNRL_VL': '123124', 'COL_AXISX_TTL_EMPH_VL': '1231231', 'ITEM_SET_USYN': '11', 'AXISY_USYN': '', 'COL_AXISY_TTL_VL': '', 'COL_AXISY_LINE_VL': '', 'LEGD_USYN': '', 'COL_ITEM_EMPH_LEGD1_VL': '', 'COL_ITEM_EMPH_LEGD2_VL': '', 'COL_ITEM_EMPH_LEGD3_VL': '', 'COL_ITEM_EMPH_LEGD4_VL': '', 'COL_ITEM_EMPH_LEGD5_VL': '', 'THRHLD_USYN': '', 'COL_THRHLD_RFLN_VL': '', 'COL_THRHLD_TXT_VL': '', 'ASST_TXT_USYN': '', 'COL_ASST_TXT_VL': '', 'MSG_USYN': '', 'COL_MSG_GNRL_VL': '', 'COL_MSG_EMPH_VL': '', 'COL_IMPN_INDX_VL': '', 'COL_ASST_INDX_TTL_VL': '', 'COL_ASST_INDX_VL': '', 'ITEM_PART_ALL_USYN': '', 'COL_ITEM_GNRL_PART_VL': '', 'COL_ITEM_GNRL_ALL_VL': '', 'COL_ITEM_EMPH_PART_VL': '', 'COL_ITEM_EMPH_ALL_VL': '', 'COL_ITEM_TXT_EMPH_PART_VL': '', 'COL_ITEM_TXT_EMPH_ALL_VL': '', 'TBL_YN': '', 'COL_TBL_TXT_VL': '', 'COL_TBL_DSNC_LINE_VL': '', 'COL_TBL_TTL_VL': '', 'COL_TBL_TTL_BGD_VL': '', 'USYN': '', 'RGPR_ID': '', 'RGDA': '', 'MDPR_ID': '', 'LAST_MDFC_DTTM': '', 'CHART_CD': 'line01', 'CHART_TPCD': 'LINE'}, {'id': 13, 'COL_ITEM_TXT_EMPH_TLTIP_VL': '12341234', 'COL_AXISX_TTL_GNRL_VL': '4123', 'CHART_CD': '12341234', 'CHART_TPCD': 'LINE'}, {'id': 14, 'COL_ITEM_TXT_EMPH_TLTIP_VL': 'asdfasdfaadsfasdf', 'COL_AXISX_TTL_GNRL_VL': 'asdfasdfasdfasdf', 'CHART_CD': 'asdfadsf'}, {'id': 15, 'COL_ITEM_TXT_EMPH_TLTIP_VL': 'ddss', 'CHART_CD': 'q2345aerdrsf', 'CHART_TPCD': 'BAR'}, {'id': 16, 'COL_ITEM_TXT_EMPH_TLTIP_VL': 'blue_black', 'COL_AXISX_TTL_GNRL_VL': 'a', 'COL_AXISX_TTL_EMPH_VL': 'a', 'ITEM_SET_USYN': '', 'AXISY_USYN': '', 'COL_AXISY_TTL_VL': '', 'COL_AXISY_LINE_VL': '', 'LEGD_USYN': '', 'COL_ITEM_EMPH_LEGD1_VL': '', 'COL_ITEM_EMPH_LEGD2_VL': '', 'COL_ITEM_EMPH_LEGD3_VL': '', 'COL_ITEM_EMPH_LEGD4_VL': '', 'COL_ITEM_EMPH_LEGD5_VL': '', 'THRHLD_USYN': '', 'COL_THRHLD_RFLN_VL': '', 'COL_THRHLD_TXT_VL': '', 'ASST_TXT_USYN': '', 'COL_ASST_TXT_VL': '', 'MSG_USYN': '', 'COL_MSG_GNRL_VL': '', 'COL_MSG_EMPH_VL': '', 'COL_IMPN_INDX_VL': '', 'COL_ASST_INDX_TTL_VL': '', 'COL_ASST_INDX_VL': '', 'ITEM_PART_ALL_USYN': '', 'COL_ITEM_GNRL_PART_VL': '', 'COL_ITEM_GNRL_ALL_VL': '', 'COL_ITEM_EMPH_PART_VL': '', 'COL_ITEM_EMPH_ALL_VL': '', 'COL_ITEM_TXT_EMPH_PART_VL': '', 'COL_ITEM_TXT_EMPH_ALL_VL': '', 'TBL_YN': '', 'COL_TBL_TXT_VL': '', 'COL_TBL_DSNC_LINE_VL': '', 'COL_TBL_TTL_VL': '', 'COL_TBL_TTL_BGD_VL': '', 'USYN': '', 'RGPR_ID': '', 'RGDA': '', 'MDPR_ID': '', 'LAST_MDFC_DTTM': '', 'CHART_CD': 'z', 'CHART_TPCD': 'BAR'}, {'id': 17, 'CHART_CD': 'asdfasdf'}, {'id': 18, 'CHART_CD': 'asdfasdf'}, {'id': 19, 'CHART_CD': 'asdfasdf'}, {'id': 23, 'COL_ITEM_TXT_EMPH_TLTIP_VL': 'asdfasdf', 'CHART_CD': 'LINE_01', 'CHART_TPCD': 'LINE'}, {'id': 24, 'COL_ITEM_TXT_EMPH_TLTIP_VL': 'black_blue', 'CHART_CD': 'PANEL_01', 'CHART_TPCD': 'PANEL'}, {'id': 25, 'COL_ITEM_TXT_EMPH_TLTIP_VL': 'black_white', 'CHART_CD': 'TABLE_011', 'CHART_TPCD': 'TABLE'}, {'id': 26, 'CHART_CD': 'LINE_00003', 'CHART_TPCD': 'LINE'}, {'id': 27, 'CHART_CD': 'LINE_012', 'CHART_TPCD': 'LINE'}, {'id': 28, 'CHART_CD': 'LINE_03', 'CHART_TPCD': 'LINE'}, {'id': 29, 'COL_ITEM_TXT_EMPH_TLTIP_VL': 'blue_blue_blue', 'CHART_CD': 'LINE_04', 'CHART_TPCD': 'LINE'}, {'id': 31, 'CHART_CD': 'LIN0129'}, {'id': 32, 'CHART_CD': 'asdfasdf'}, {'id': 33, 'CHART_CD': 'LINE_012'}, {'id': 34, 'CHART_CD': 'asdoifhaposdhf'}, {'id': 35, 'CHART_CD': 'asd'}, {'id': 36, 'CHART_CD': 'asdfasdf'}, {'id': 37, 'COL_ITEM_TXT_EMPH_TLTIP_VL': 'red_pink', 'CHART_CD': 'LINE_06', 'CHART_TPCD': 'LINE'}, {'id': 4, 'COL_ITEM_TXT_EMPH_TLTIP_VL': 'blue_black', 'COL_AXISX_TTL_GNRL_VL': '123', 'COL_AXISX_TTL_EMPH_VL': '1', 'ITEM_SET_USYN': '1', 'AXISY_USYN': '', 'COL_AXISY_TTL_VL': '', 'COL_AXISY_LINE_VL': '', 'LEGD_USYN': '', 'COL_ITEM_EMPH_LEGD1_VL': '', 'COL_ITEM_EMPH_LEGD2_VL': '', 'COL_ITEM_EMPH_LEGD3_VL': '', 'COL_ITEM_EMPH_LEGD4_VL': '', 'COL_ITEM_EMPH_LEGD5_VL': '', 'THRHLD_USYN': '', 'COL_THRHLD_RFLN_VL': '', 'COL_THRHLD_TXT_VL': '', 'ASST_TXT_USYN': '', 'COL_ASST_TXT_VL': '', 'MSG_USYN': '', 'COL_MSG_GNRL_VL': '', 'COL_MSG_EMPH_VL': '', 'COL_IMPN_INDX_VL': '', 'COL_ASST_INDX_TTL_VL': '', 'COL_ASST_INDX_VL': '', 'ITEM_PART_ALL_USYN': '', 'COL_ITEM_GNRL_PART_VL': '', 'COL_ITEM_GNRL_ALL_VL': '', 'COL_ITEM_EMPH_PART_VL': '', 'COL_ITEM_EMPH_ALL_VL': '', 'COL_ITEM_TXT_EMPH_PART_VL': '', 'COL_ITEM_TXT_EMPH_ALL_VL': '', 'TBL_YN': '', 'COL_TBL_TXT_VL': '', 'COL_TBL_DSNC_LINE_VL': '', 'COL_TBL_TTL_VL': '', 'COL_TBL_TTL_BGD_VL': '', 'USYN': '', 'RGPR_ID': '', 'RGDA': '', 'MDPR_ID': '', 'LAST_MDFC_DTTM': '2022/12/15', 'CHART_CD': 'PIE_0245', 'CHART_TPCD': 'PIE'}, {'id': 5, 'COL_ITEM_TXT_EMPH_TLTIP_VL': '', 'COL_AXISX_TTL_GNRL_VL': '', 'COL_AXISX_TTL_EMPH_VL': '', 'ITEM_SET_USYN': '', 'AXISY_USYN': '', 'COL_AXISY_TTL_VL': '', 'COL_AXISY_LINE_VL': '', 'LEGD_USYN': '', 'COL_ITEM_EMPH_LEGD1_VL': '', 'COL_ITEM_EMPH_LEGD2_VL': '', 'COL_ITEM_EMPH_LEGD3_VL': '', 'COL_ITEM_EMPH_LEGD4_VL': '', 'COL_ITEM_EMPH_LEGD5_VL': '', 'THRHLD_USYN': '', 'COL_THRHLD_RFLN_VL': '', 'COL_THRHLD_TXT_VL': '', 'ASST_TXT_USYN': '', 'COL_ASST_TXT_VL': '', 'MSG_USYN': '', 'COL_MSG_GNRL_VL': '', 'COL_MSG_EMPH_VL': '', 'COL_IMPN_INDX_VL': '', 'COL_ASST_INDX_TTL_VL': '', 'COL_ASST_INDX_VL': '', 'ITEM_PART_ALL_USYN': '', 'COL_ITEM_GNRL_PART_VL': '', 'COL_ITEM_GNRL_ALL_VL': '', 'COL_ITEM_EMPH_PART_VL': '', 'COL_ITEM_EMPH_ALL_VL': '', 'COL_ITEM_TXT_EMPH_PART_VL': '', 'COL_ITEM_TXT_EMPH_ALL_VL': '', 'TBL_YN': '', 'COL_TBL_TXT_VL': '', 'COL_TBL_DSNC_LINE_VL': '', 'COL_TBL_TTL_VL': '', 'COL_TBL_TTL_BGD_VL': '', 'USYN': '', 'RGPR_ID': '', 'RGDA': '', 'MDPR_ID': '', 'LAST_MDFC_DTTM': '', 'CHART_CD': 'PIE_DELICIOUS', 'CHART_TPCD': 'PIE'}, {'id': 6, 'COL_ITEM_TXT_EMPH_TLTIP_VL': 'blue_black', 'COL_AXISX_TTL_GNRL_VL': '123', 'CHART_CD': 'TABLE_000001', 'CHART_TPCD': 'TABLE'}]\n"
     ]
    }
   ],
   "source": [
    "print(rows_to_insert)"
   ]
  },
  {
   "cell_type": "code",
   "execution_count": 63,
   "id": "f9adb097",
   "metadata": {},
   "outputs": [],
   "source": [
    "datum = cur.fetchone()"
   ]
  },
  {
   "cell_type": "code",
   "execution_count": 48,
   "id": "d485e253",
   "metadata": {},
   "outputs": [
    {
     "name": "stdout",
     "output_type": "stream",
     "text": [
      "(7, '1', None, None, None, None, None, None, None, None, None, None, None, None, None, None, None, None, None, None, None, None, None, None, None, None, None, None, None, None, None, None, None, None, None, None, None, None, None, None, None, None, None, None, None, None, None, None, None, None, None, None, None, None, None, None, None, None, None, None, None, None, None, None, None, None, None, None, None, None, None, None, '13', '11')\n"
     ]
    }
   ],
   "source": [
    "print(datum)"
   ]
  },
  {
   "cell_type": "code",
   "execution_count": 49,
   "id": "819e30d0",
   "metadata": {},
   "outputs": [
    {
     "name": "stdout",
     "output_type": "stream",
     "text": [
      "74\n"
     ]
    }
   ],
   "source": [
    "print(len(datum))"
   ]
  },
  {
   "cell_type": "code",
   "execution_count": 50,
   "id": "e11ca9c2",
   "metadata": {},
   "outputs": [
    {
     "name": "stdout",
     "output_type": "stream",
     "text": [
      "(8, 'blue_black', '1', '1', '', None, None, '', None, None, None, None, None, '', '', '', None, None, None, '', '', '', '', '', '', None, None, None, '', '', '', None, None, None, '', '', None, None, None, None, None, None, None, None, None, None, None, None, '', '', '', '', '', '', None, None, '', '', '', '', '', '', '', '', '', '', '', '', '', '', '', '', '1', '1')\n"
     ]
    }
   ],
   "source": [
    "datum = cur.fetchone()\n",
    "print(datum)"
   ]
  },
  {
   "cell_type": "code",
   "execution_count": null,
   "id": "8c995ad9",
   "metadata": {},
   "outputs": [],
   "source": []
  },
  {
   "cell_type": "code",
   "execution_count": null,
   "id": "c4f3eb9d",
   "metadata": {},
   "outputs": [],
   "source": []
  },
  {
   "cell_type": "code",
   "execution_count": 51,
   "id": "e3fca903",
   "metadata": {},
   "outputs": [],
   "source": [
    "########################################################################################################################"
   ]
  },
  {
   "cell_type": "code",
   "execution_count": null,
   "id": "4411724c",
   "metadata": {},
   "outputs": [],
   "source": [
    "# insert to bq\n"
   ]
  },
  {
   "cell_type": "code",
   "execution_count": 103,
   "id": "d637da36",
   "metadata": {},
   "outputs": [
    {
     "name": "stdout",
     "output_type": "stream",
     "text": [
      "New rows have been added.\n"
     ]
    }
   ],
   "source": [
    "errors = client.insert_rows_json(table_id, rows_to_insert)  # Make an API request.\n",
    "if errors == []:\n",
    "    print(\"New rows have been added.\")\n",
    "else:\n",
    "    print(\"Encountered errors while inserting rows: {}\".format(errors))"
   ]
  },
  {
   "cell_type": "code",
   "execution_count": null,
   "id": "3c589060",
   "metadata": {},
   "outputs": [],
   "source": [
    "from google.cloud import bigquery\n",
    "\n",
    "# Construct a BigQuery client object.\n",
    "client = bigquery.Client()\n",
    "\n",
    "# TODO(developer): Set table_id to the ID of table to append to.\n",
    "# table_id = \"your-project.your_dataset.your_table\"\n",
    "\n",
    "rows_to_insert = [\n",
    "    {\"full_name\": \"Phred Phlyntstone\", \"age\": 32},\n",
    "    {\"full_name\": \"Wylma Phlyntstone\", \"age\": 29},\n",
    "]\n",
    "\n",
    "errors = client.insert_rows_json(table_id, rows_to_insert)  # Make an API request.\n",
    "if errors == []:\n",
    "    print(\"New rows have been added.\")\n",
    "else:\n",
    "    print(\"Encountered errors while inserting rows: {}\".format(errors))"
   ]
  }
 ],
 "metadata": {
  "kernelspec": {
   "display_name": "Python 3 (ipykernel)",
   "language": "python",
   "name": "python3"
  },
  "language_info": {
   "codemirror_mode": {
    "name": "ipython",
    "version": 3
   },
   "file_extension": ".py",
   "mimetype": "text/x-python",
   "name": "python",
   "nbconvert_exporter": "python",
   "pygments_lexer": "ipython3",
   "version": "3.10.8"
  }
 },
 "nbformat": 4,
 "nbformat_minor": 5
}
